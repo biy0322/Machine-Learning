{
 "cells": [
  {
   "cell_type": "markdown",
   "id": "7bd348a0",
   "metadata": {},
   "source": [
    "# Graph 상에 임의로 Dot을 찍어서 차수에 따른 그래프의 변화 확인"
   ]
  },
  {
   "cell_type": "code",
   "execution_count": 1,
   "id": "a56b1358",
   "metadata": {},
   "outputs": [],
   "source": [
    "from sklearn.linear_model import LinearRegression\n",
    "import numpy as np\n",
    "import matplotlib.pyplot as plt"
   ]
  },
  {
   "cell_type": "markdown",
   "id": "a7bd7dc6",
   "metadata": {},
   "source": [
    "## 1차원 그래프"
   ]
  },
  {
   "cell_type": "code",
   "execution_count": 2,
   "id": "121d3d8c",
   "metadata": {},
   "outputs": [],
   "source": [
    "X = np.arange(1,11).reshape(10,1)\n",
    "y = np.array([7,8,7,13,16,15,19,23,18,21]).reshape(10,1)"
   ]
  },
  {
   "cell_type": "code",
   "execution_count": 4,
   "id": "6bd7d215",
   "metadata": {},
   "outputs": [
    {
     "data": {
      "image/png": "[encoded data removed]",
      "text/plain": [
       "<Figure size 432x288 with 1 Axes>"
      ]
     },
     "metadata": {
      "needs_background": "light"
     },
     "output_type": "display_data"
    }
   ],
   "source": [
    "plt.plot(X, y, 'ro')\n",
    "\n",
    "axes = plt.gca()\n",
    "axes.set_ylim([0,30])\n",
    "\n",
    "plt.show()"
   ]
  },
  {
   "cell_type": "markdown",
   "id": "f7e85ba0",
   "metadata": {},
   "source": [
    "overfitting된 경우 w(가중치) 값이 어떻게 변화하는가"
   ]
  },
  {
   "cell_type": "markdown",
   "id": "5da2227b",
   "metadata": {},
   "source": [
    "# Perform LiearRegression"
   ]
  },
  {
   "cell_type": "markdown",
   "id": "1b6f6d0c",
   "metadata": {},
   "source": [
    "## 1차원 그래프"
   ]
  },
  {
   "cell_type": "code",
   "execution_count": 5,
   "id": "6c19cfb8",
   "metadata": {},
   "outputs": [
    {
     "name": "stdout",
     "output_type": "stream",
     "text": [
      "[4.93333333]\n",
      "[[1.77575758]]\n"
     ]
    }
   ],
   "source": [
    "reg = LinearRegression()\n",
    "reg.fit(X,y)\n",
    "\n",
    "print(reg.intercept_)\n",
    "print(reg.coef_)"
   ]
  },
  {
   "cell_type": "code",
   "execution_count": 6,
   "id": "55f30bbf",
   "metadata": {},
   "outputs": [],
   "source": [
    "y_pred = reg.predict(X)"
   ]
  },
  {
   "cell_type": "code",
   "execution_count": 7,
   "id": "8159b119",
   "metadata": {},
   "outputs": [
    {
     "data": {
      "image/png": "[encoded data removed]",
      "text/plain": [
       "<Figure size 432x288 with 1 Axes>"
      ]
     },
     "metadata": {
      "needs_background": "light"
     },
     "output_type": "display_data"
    }
   ],
   "source": [
    "plt.plot(X,y,'ro')\n",
    "plt.plot(X, y_pred)\n",
    "\n",
    "# gca = 그래프의 '축' 을 설정\n",
    "axes = plt.gca()\n",
    "axes.set_xlim([0,11])\n",
    "axes.set_ylim([0,30]) # gca를 이용해 y의 범위를 0~30으로 늘려준다\n",
    "plt.show()"
   ]
  },
  {
   "cell_type": "markdown",
   "id": "70ed9d59",
   "metadata": {},
   "source": [
    "## 2차원 그래프"
   ]
  },
  {
   "cell_type": "code",
   "execution_count": 9,
   "id": "343bcf0e",
   "metadata": {},
   "outputs": [
    {
     "data": {
      "text/plain": [
       "array([[  1,   1],\n",
       "       [  2,   4],\n",
       "       [  3,   9],\n",
       "       [  4,  16],\n",
       "       [  5,  25],\n",
       "       [  6,  36],\n",
       "       [  7,  49],\n",
       "       [  8,  64],\n",
       "       [  9,  81],\n",
       "       [ 10, 100]])"
      ]
     },
     "execution_count": 9,
     "metadata": {},
     "output_type": "execute_result"
    }
   ],
   "source": [
    "# np.c_ => 1차원 배열 두 개를 col 방향으로 나열해서 concatenation(X^2)\n",
    "X_2 = np.c_[X,X**2]\n",
    "X_2"
   ]
  },
  {
   "cell_type": "code",
   "execution_count": 10,
   "id": "35b02f24",
   "metadata": {},
   "outputs": [
    {
     "name": "stdout",
     "output_type": "stream",
     "text": [
      "[2.43333333]\n",
      "[[ 3.02575758 -0.11363636]]\n"
     ]
    }
   ],
   "source": [
    "reg = LinearRegression()\n",
    "reg.fit(X_2, y)\n",
    "\n",
    "print(reg.intercept_)\n",
    "print(reg.coef_)"
   ]
  },
  {
   "cell_type": "code",
   "execution_count": 11,
   "id": "8687ff91",
   "metadata": {},
   "outputs": [],
   "source": [
    "y_pred_2 = reg.predict(X_2)"
   ]
  },
  {
   "cell_type": "code",
   "execution_count": 13,
   "id": "d7a77e1f",
   "metadata": {},
   "outputs": [
    {
     "data": {
      "image/png": "[encoded data removed]",
      "text/plain": [
       "<Figure size 432x288 with 1 Axes>"
      ]
     },
     "metadata": {
      "needs_background": "light"
     },
     "output_type": "display_data"
    }
   ],
   "source": [
    "plt.plot(X,y,'ro')\n",
    "plt.plot(X_2[:,0], y_pred_2)\n",
    "\n",
    "# gca = 그래프의 '축'을 설정\n",
    "axes = plt.gca()\n",
    "axes.set_xlim([0,11])\n",
    "axes.set_ylim([0,30])\n",
    "plt.show()"
   ]
  },
  {
   "cell_type": "markdown",
   "id": "2a25e14e",
   "metadata": {},
   "source": [
    "## 3차원 그래프"
   ]
  },
  {
   "cell_type": "code",
   "execution_count": 14,
   "id": "c47c5983",
   "metadata": {},
   "outputs": [
    {
     "data": {
      "text/plain": [
       "array([[   1,    1,    1],\n",
       "       [   2,    4,    8],\n",
       "       [   3,    9,   27],\n",
       "       [   4,   16,   64],\n",
       "       [   5,   25,  125],\n",
       "       [   6,   36,  216],\n",
       "       [   7,   49,  343],\n",
       "       [   8,   64,  512],\n",
       "       [   9,   81,  729],\n",
       "       [  10,  100, 1000]])"
      ]
     },
     "execution_count": 14,
     "metadata": {},
     "output_type": "execute_result"
    }
   ],
   "source": [
    "X_3 = np.c_[X,X**2,X**3]\n",
    "X_3"
   ]
  },
  {
   "cell_type": "code",
   "execution_count": 15,
   "id": "0376cf7e",
   "metadata": {},
   "outputs": [
    {
     "data": {
      "text/plain": [
       "array([[   1.,    1.,    1.],\n",
       "       [   2.,    4.,    8.],\n",
       "       [   3.,    9.,   27.],\n",
       "       [   4.,   16.,   64.],\n",
       "       [   5.,   25.,  125.],\n",
       "       [   6.,   36.,  216.],\n",
       "       [   7.,   49.,  343.],\n",
       "       [   8.,   64.,  512.],\n",
       "       [   9.,   81.,  729.],\n",
       "       [  10.,  100., 1000.]])"
      ]
     },
     "execution_count": 15,
     "metadata": {},
     "output_type": "execute_result"
    }
   ],
   "source": [
    "from sklearn.preprocessing import PolynomialFeatures\n",
    "\n",
    "\n",
    "polynomial = PolynomialFeatures(degree=3, include_bias=False)\n",
    "X_3_poly = polynomial.fit_transform(X)\n",
    "X_3_poly"
   ]
  },
  {
   "cell_type": "code",
   "execution_count": 19,
   "id": "6274714b",
   "metadata": {},
   "outputs": [
    {
     "name": "stdout",
     "output_type": "stream",
     "text": [
      "[[-1.2020202   0.8030303  -0.05555556]]\n",
      "w0:  [7.2]\n",
      "w1:  -1.202020202020208\n",
      "w2:  0.8030303030303003\n",
      "w3:  -0.05555555555555544\n"
     ]
    }
   ],
   "source": [
    "reg = LinearRegression()\n",
    "reg.fit(X_3_poly, y)\n",
    "\n",
    "w0 = reg.intercept_\n",
    "w = reg.coef_\n",
    "\n",
    "print(w)\n",
    "\n",
    "print(\"w0: \", w0)\n",
    "print(\"w1: \", w[0][0])\n",
    "print(\"w2: \", w[0][1])\n",
    "print(\"w3: \", w[0][2])"
   ]
  },
  {
   "cell_type": "markdown",
   "id": "593b9d00",
   "metadata": {},
   "source": [
    "x=2일 때의 y 값은?"
   ]
  },
  {
   "cell_type": "code",
   "execution_count": 23,
   "id": "9bd3d70a",
   "metadata": {},
   "outputs": [
    {
     "data": {
      "text/plain": [
       "array([7.56363636])"
      ]
     },
     "execution_count": 23,
     "metadata": {},
     "output_type": "execute_result"
    }
   ],
   "source": [
    "x_2 = np.array([2,4,8])\n",
    "\n",
    "y_2 = x_2@w.reshape(-1,1)+w0\n",
    "y_2"
   ]
  },
  {
   "cell_type": "code",
   "execution_count": 18,
   "id": "7e6fc253",
   "metadata": {},
   "outputs": [
    {
     "data": {
      "image/png": "[encoded data removed]",
      "text/plain": [
       "<Figure size 432x288 with 1 Axes>"
      ]
     },
     "metadata": {
      "needs_background": "light"
     },
     "output_type": "display_data"
    }
   ],
   "source": [
    "y_pred_3 = reg.predict(X_3_poly)\n",
    "\n",
    "plt.plot(X,y,'ro')\n",
    "plt.plot(X_3_poly[:,0], y_pred_3)\n",
    "\n",
    "# gca = 그래프의 '축'을 설정\n",
    "axes = plt.gca()\n",
    "axes.set_xlim([0,11])\n",
    "axes.set_ylim([0,30])\n",
    "plt.show()"
   ]
  },
  {
   "cell_type": "markdown",
   "id": "85b56cc9",
   "metadata": {},
   "source": [
    "x 값의 범위를 좁게해서 그래프를 부드럽게"
   ]
  },
  {
   "cell_type": "code",
   "execution_count": 24,
   "id": "eccfb618",
   "metadata": {},
   "outputs": [],
   "source": [
    "X_new = np.arange(-5,15,0.01).reshape(-1,1)"
   ]
  },
  {
   "cell_type": "code",
   "execution_count": 27,
   "id": "4cdbb061",
   "metadata": {},
   "outputs": [],
   "source": [
    "from sklearn.preprocessing import PolynomialFeatures\n",
    "\n",
    "polynomial = PolynomialFeatures(degree=3, include_bias=False)\n",
    "\n",
    "X_new_3 = polynomial.fit_transform(X_new)"
   ]
  },
  {
   "cell_type": "code",
   "execution_count": 32,
   "id": "fd837bb8",
   "metadata": {},
   "outputs": [],
   "source": [
    "y_pred_3 = (X_new_3 @ w.reshape(-1,1)) + w0"
   ]
  },
  {
   "cell_type": "code",
   "execution_count": 33,
   "id": "da7bd056",
   "metadata": {},
   "outputs": [
    {
     "data": {
      "text/plain": [
       "[<matplotlib.lines.Line2D at 0x1e0de7f5790>]"
      ]
     },
     "execution_count": 33,
     "metadata": {},
     "output_type": "execute_result"
    },
    {
     "data": {
      "image/png": "[encoded data removed]",
      "text/plain": [
       "<Figure size 432x288 with 1 Axes>"
      ]
     },
     "metadata": {
      "needs_background": "light"
     },
     "output_type": "display_data"
    }
   ],
   "source": [
    "plt.plot(X_new, y_pred_3)"
   ]
  },
  {
   "cell_type": "code",
   "execution_count": 34,
   "id": "b1a61b47",
   "metadata": {},
   "outputs": [
    {
     "data": {
      "image/png": "[encoded data removed]",
      "text/plain": [
       "<Figure size 432x288 with 1 Axes>"
      ]
     },
     "metadata": {
      "needs_background": "light"
     },
     "output_type": "display_data"
    }
   ],
   "source": [
    "plt.plot(X,y,'ro')\n",
    "plt.plot(X_new, y_pred_3)\n",
    "\n",
    "axes = plt.gca()\n",
    "axes.set_xlim([0,11])\n",
    "axes.set_ylim([0,30])\n",
    "plt.show()"
   ]
  },
  {
   "cell_type": "markdown",
   "id": "ca05f0ed",
   "metadata": {},
   "source": [
    "## 7차원 그래프"
   ]
  },
  {
   "cell_type": "code",
   "execution_count": 37,
   "id": "86f465b0",
   "metadata": {},
   "outputs": [],
   "source": [
    "polynomial = PolynomialFeatures(degree = 7, include_bias=False)\n",
    "X_7 = polynomial.fit_transform(X)"
   ]
  },
  {
   "cell_type": "code",
   "execution_count": 41,
   "id": "d316e56a",
   "metadata": {},
   "outputs": [
    {
     "data": {
      "text/plain": [
       "array([[1.000000e+00, 1.000000e+00, 1.000000e+00, 1.000000e+00,\n",
       "        1.000000e+00, 1.000000e+00, 1.000000e+00],\n",
       "       [2.000000e+00, 4.000000e+00, 8.000000e+00, 1.600000e+01,\n",
       "        3.200000e+01, 6.400000e+01, 1.280000e+02],\n",
       "       [3.000000e+00, 9.000000e+00, 2.700000e+01, 8.100000e+01,\n",
       "        2.430000e+02, 7.290000e+02, 2.187000e+03],\n",
       "       [4.000000e+00, 1.600000e+01, 6.400000e+01, 2.560000e+02,\n",
       "        1.024000e+03, 4.096000e+03, 1.638400e+04],\n",
       "       [5.000000e+00, 2.500000e+01, 1.250000e+02, 6.250000e+02,\n",
       "        3.125000e+03, 1.562500e+04, 7.812500e+04],\n",
       "       [6.000000e+00, 3.600000e+01, 2.160000e+02, 1.296000e+03,\n",
       "        7.776000e+03, 4.665600e+04, 2.799360e+05],\n",
       "       [7.000000e+00, 4.900000e+01, 3.430000e+02, 2.401000e+03,\n",
       "        1.680700e+04, 1.176490e+05, 8.235430e+05],\n",
       "       [8.000000e+00, 6.400000e+01, 5.120000e+02, 4.096000e+03,\n",
       "        3.276800e+04, 2.621440e+05, 2.097152e+06],\n",
       "       [9.000000e+00, 8.100000e+01, 7.290000e+02, 6.561000e+03,\n",
       "        5.904900e+04, 5.314410e+05, 4.782969e+06],\n",
       "       [1.000000e+01, 1.000000e+02, 1.000000e+03, 1.000000e+04,\n",
       "        1.000000e+05, 1.000000e+06, 1.000000e+07]])"
      ]
     },
     "execution_count": 41,
     "metadata": {},
     "output_type": "execute_result"
    }
   ],
   "source": [
    "X_7"
   ]
  },
  {
   "cell_type": "code",
   "execution_count": 40,
   "id": "c13002c5",
   "metadata": {},
   "outputs": [
    {
     "name": "stdout",
     "output_type": "stream",
     "text": [
      "[[ 2.78539901e+02 -2.37257519e+02  9.94563695e+01 -2.25924743e+01\n",
      "   2.83667484e+00 -1.84910131e-01  4.87861812e-03]] \n",
      "\n",
      "w0:  [-113.79999981]\n",
      "w1:  278.5399014236802\n",
      "w1:  -237.257519321223\n",
      "w1:  99.45636954838358\n",
      "w1:  -22.592474263398188\n",
      "w1:  2.836674840115315\n",
      "w1:  -0.18491013093279265\n",
      "w1:  0.004878618119258213\n"
     ]
    }
   ],
   "source": [
    "reg = LinearRegression()\n",
    "reg.fit(X_7,y)\n",
    "\n",
    "w0 = reg.intercept_\n",
    "w = reg.coef_\n",
    "\n",
    "print(w, \"\\n\" )\n",
    "\n",
    "print(\"w0: \", w0)\n",
    "print(\"w1: \", w[0][0])\n",
    "print(\"w1: \", w[0][1])\n",
    "print(\"w1: \", w[0][2])\n",
    "print(\"w1: \", w[0][3])\n",
    "print(\"w1: \", w[0][4])\n",
    "print(\"w1: \", w[0][5])\n",
    "print(\"w1: \", w[0][6])"
   ]
  },
  {
   "cell_type": "markdown",
   "id": "f1d9de2a",
   "metadata": {},
   "source": [
    "- overfitting 발생: w 값이 기하급수적으로 증가"
   ]
  },
  {
   "cell_type": "markdown",
   "id": "1d5b58e1",
   "metadata": {},
   "source": [
    "x=2일 때의 값을 구해보자"
   ]
  },
  {
   "cell_type": "code",
   "execution_count": 42,
   "id": "c0619d23",
   "metadata": {},
   "outputs": [
    {
     "data": {
      "text/plain": [
       "array([7.98490355])"
      ]
     },
     "execution_count": 42,
     "metadata": {},
     "output_type": "execute_result"
    }
   ],
   "source": [
    "y_2 = (np.array([2,4,8,16,32,64,128])) @ w.reshape(-1,1) + w0\n",
    "y_2"
   ]
  },
  {
   "cell_type": "code",
   "execution_count": 43,
   "id": "fdf09c35",
   "metadata": {},
   "outputs": [
    {
     "name": "stdout",
     "output_type": "stream",
     "text": [
      "['278.540', '-237.258', '99.456', '-22.592', '2.837', '-0.185', '0.005']\n"
     ]
    }
   ],
   "source": [
    "print([\"{:0.3f}\".format(x) for x in reg.coef_.reshape(-1)])"
   ]
  },
  {
   "cell_type": "markdown",
   "id": "d4a8c340",
   "metadata": {},
   "source": [
    "w와 intercept 값을 이용해서 그래프 그려보기"
   ]
  },
  {
   "cell_type": "code",
   "execution_count": 45,
   "id": "7c44ddc5",
   "metadata": {},
   "outputs": [
    {
     "data": {
      "image/png": "[encoded data removed]",
      "text/plain": [
       "<Figure size 432x288 with 1 Axes>"
      ]
     },
     "metadata": {
      "needs_background": "light"
     },
     "output_type": "display_data"
    }
   ],
   "source": [
    "y_pred_7 = X_7@w.reshape(-1,1)+w0\n",
    "\n",
    "plt.plot(X,y,'ro')\n",
    "plt.plot(X, y_pred_7)\n",
    "\n",
    "axes = plt.gca()\n",
    "axes.set_xlim([0,11])\n",
    "axes.set_ylim([0,30])\n",
    "plt.show()"
   ]
  },
  {
   "cell_type": "code",
   "execution_count": 46,
   "id": "f5fa408a",
   "metadata": {},
   "outputs": [],
   "source": [
    "X_new = np.arange(1,10.5,0.01).reshape(-1,1)\n",
    "polynomial = PolynomialFeatures(degree=7, include_bias=False)\n",
    "X_new_7 = polynomial.fit_transform(X_new)"
   ]
  },
  {
   "cell_type": "code",
   "execution_count": 47,
   "id": "6fd392e0",
   "metadata": {},
   "outputs": [],
   "source": [
    "y_7_new = (X_new_7 @ reg.coef_.reshape(-1,1)) + reg.intercept_"
   ]
  },
  {
   "cell_type": "code",
   "execution_count": 48,
   "id": "98c9d109",
   "metadata": {},
   "outputs": [
    {
     "data": {
      "image/png": "[encoded data removed]",
      "text/plain": [
       "<Figure size 432x288 with 1 Axes>"
      ]
     },
     "metadata": {
      "needs_background": "light"
     },
     "output_type": "display_data"
    }
   ],
   "source": [
    "plt.plot(X,y,'ro')\n",
    "plt.plot(X_new, y_7_new)\n",
    "\n",
    "axes = plt.gca()\n",
    "axes.set_ylim([0,30])\n",
    "plt.show()"
   ]
  },
  {
   "cell_type": "markdown",
   "id": "e65cd6bd",
   "metadata": {},
   "source": [
    "# 가장 피해야 할 것 중 하나인 overfitting을 방지해보자"
   ]
  },
  {
   "cell_type": "markdown",
   "id": "6be6a154",
   "metadata": {},
   "source": [
    "## Ridge Method"
   ]
  },
  {
   "cell_type": "code",
   "execution_count": 49,
   "id": "54111828",
   "metadata": {},
   "outputs": [],
   "source": [
    "from sklearn.linear_model import Ridge"
   ]
  },
  {
   "cell_type": "code",
   "execution_count": 51,
   "id": "aec08aa6",
   "metadata": {},
   "outputs": [
    {
     "data": {
      "text/plain": [
       "Ridge()"
      ]
     },
     "execution_count": 51,
     "metadata": {},
     "output_type": "execute_result"
    }
   ],
   "source": [
    "ridge = Ridge(alpha=1.0) #alpha=lambda\n",
    "\n",
    "ridge.fit(X_7,y)"
   ]
  },
  {
   "cell_type": "code",
   "execution_count": 52,
   "id": "be91e3da",
   "metadata": {},
   "outputs": [],
   "source": [
    "y_pred_ridge = ridge.predict(X_7)"
   ]
  },
  {
   "cell_type": "code",
   "execution_count": 55,
   "id": "789f10c9",
   "metadata": {},
   "outputs": [
    {
     "name": "stdout",
     "output_type": "stream",
     "text": [
      "[[-2.34723213e-01 -9.30910793e-02  6.16961614e-01 -2.74594734e-01\n",
      "   5.50301419e-02 -5.15343047e-03  1.80531322e-04]] \n",
      "\n",
      "w0:  [6.52078565]\n",
      "w1:  -0.2347232131335887\n",
      "w1:  -0.09309107928635957\n",
      "w1:  0.6169616138908628\n",
      "w1:  -0.274594733885231\n",
      "w1:  0.05503014186861977\n",
      "w1:  -0.005153430468682524\n",
      "w1:  0.00018053132188439115\n"
     ]
    }
   ],
   "source": [
    "w0 = ridge.intercept_\n",
    "w = ridge.coef_\n",
    "\n",
    "print(w, \"\\n\" )\n",
    "\n",
    "print(\"w0: \", w0)\n",
    "print(\"w1: \", w[0][0])\n",
    "print(\"w1: \", w[0][1])\n",
    "print(\"w1: \", w[0][2])\n",
    "print(\"w1: \", w[0][3])\n",
    "print(\"w1: \", w[0][4])\n",
    "print(\"w1: \", w[0][5])\n",
    "print(\"w1: \", w[0][6])"
   ]
  },
  {
   "cell_type": "markdown",
   "id": "52f5f357",
   "metadata": {},
   "source": [
    "값이 줄어든 거 확인\n"
   ]
  },
  {
   "cell_type": "code",
   "execution_count": 56,
   "id": "d0e7e0df",
   "metadata": {},
   "outputs": [
    {
     "name": "stdout",
     "output_type": "stream",
     "text": [
      "['-0.235', '-0.093', '0.617', '-0.275', '0.055', '-0.005', '0.000']\n"
     ]
    }
   ],
   "source": [
    "print([\"{:0.3f}\".format(x) for x in ridge.coef_.reshape(-1)])"
   ]
  },
  {
   "cell_type": "code",
   "execution_count": null,
   "id": "cf1a93fa",
   "metadata": {},
   "outputs": [],
   "source": [
    "plt.f"
   ]
  }
 ],
 "metadata": {
  "kernelspec": {
   "display_name": "Python 3",
   "language": "python",
   "name": "python3"
  },
  "language_info": {
   "codemirror_mode": {
    "name": "ipython",
    "version": 3
   },
   "file_extension": ".py",
   "mimetype": "text/x-python",
   "name": "python",
   "nbconvert_exporter": "python",
   "pygments_lexer": "ipython3",
   "version": "3.8.8"
  },
  "toc": {
   "base_numbering": 1,
   "nav_menu": {},
   "number_sections": true,
   "sideBar": true,
   "skip_h1_title": false,
   "title_cell": "Table of Contents",
   "title_sidebar": "Contents",
   "toc_cell": false,
   "toc_position": {},
   "toc_section_display": true,
   "toc_window_display": false
  }
 },
 "nbformat": 4,
 "nbformat_minor": 5
}
