{
 "cells": [
  {
   "cell_type": "markdown",
   "metadata": {},
   "source": [
    "> # Chapter02 - Overfitting and Regularization\n",
    "***\n",
    "\n",
    "     Boston Extended-set"
   ]
  },
  {
   "cell_type": "code",
   "execution_count": 1,
   "metadata": {},
   "outputs": [],
   "source": [
    "import numpy as np\n",
    "import pandas as pd\n",
    "import matplotlib.pyplot as plt\n",
    "import mglearn\n",
    "\n",
    "from sklearn.linear_model import LinearRegression"
   ]
  },
  {
   "cell_type": "markdown",
   "metadata": {},
   "source": [
    "## Overfitting"
   ]
  },
  {
   "cell_type": "markdown",
   "metadata": {},
   "source": [
    "Boston Extended Dataset (Overfitting 의 좋은 예시)"
   ]
  },
  {
   "cell_type": "code",
   "execution_count": 2,
   "metadata": {
    "scrolled": true
   },
   "outputs": [
    {
     "name": "stdout",
     "output_type": "stream",
     "text": [
      "X data 의 shape: (506, 104)\n",
      "y data 의 shape: (506,)\n"
     ]
    }
   ],
   "source": [
    "X_data, y_data = mglearn.datasets.load_extended_boston()\n",
    "\n",
    "print(\"X data 의 shape:\",X_data.shape)\n",
    "print(\"y data 의 shape:\",y_data.shape)"
   ]
  },
  {
   "cell_type": "code",
   "execution_count": 3,
   "metadata": {
    "scrolled": false
   },
   "outputs": [
    {
     "data": {
      "text/html": [
       "<div>\n",
       "<style scoped>\n",
       "    .dataframe tbody tr th:only-of-type {\n",
       "        vertical-align: middle;\n",
       "    }\n",
       "\n",
       "    .dataframe tbody tr th {\n",
       "        vertical-align: top;\n",
       "    }\n",
       "\n",
       "    .dataframe thead th {\n",
       "        text-align: right;\n",
       "    }\n",
       "</style>\n",
       "<table border=\"1\" class=\"dataframe\">\n",
       "  <thead>\n",
       "    <tr style=\"text-align: right;\">\n",
       "      <th></th>\n",
       "      <th>0</th>\n",
       "      <th>1</th>\n",
       "      <th>2</th>\n",
       "      <th>3</th>\n",
       "      <th>4</th>\n",
       "      <th>5</th>\n",
       "      <th>6</th>\n",
       "      <th>7</th>\n",
       "      <th>8</th>\n",
       "      <th>9</th>\n",
       "      <th>...</th>\n",
       "      <th>94</th>\n",
       "      <th>95</th>\n",
       "      <th>96</th>\n",
       "      <th>97</th>\n",
       "      <th>98</th>\n",
       "      <th>99</th>\n",
       "      <th>100</th>\n",
       "      <th>101</th>\n",
       "      <th>102</th>\n",
       "      <th>103</th>\n",
       "    </tr>\n",
       "  </thead>\n",
       "  <tbody>\n",
       "    <tr>\n",
       "      <th>0</th>\n",
       "      <td>0.000000</td>\n",
       "      <td>0.18</td>\n",
       "      <td>0.067815</td>\n",
       "      <td>0.0</td>\n",
       "      <td>0.314815</td>\n",
       "      <td>0.577505</td>\n",
       "      <td>0.641607</td>\n",
       "      <td>0.269203</td>\n",
       "      <td>0.000000</td>\n",
       "      <td>0.208015</td>\n",
       "      <td>...</td>\n",
       "      <td>0.043270</td>\n",
       "      <td>0.059749</td>\n",
       "      <td>0.208015</td>\n",
       "      <td>0.018655</td>\n",
       "      <td>0.082503</td>\n",
       "      <td>0.287234</td>\n",
       "      <td>0.025759</td>\n",
       "      <td>1.000000</td>\n",
       "      <td>0.089680</td>\n",
       "      <td>0.008042</td>\n",
       "    </tr>\n",
       "    <tr>\n",
       "      <th>1</th>\n",
       "      <td>0.000236</td>\n",
       "      <td>0.00</td>\n",
       "      <td>0.242302</td>\n",
       "      <td>0.0</td>\n",
       "      <td>0.172840</td>\n",
       "      <td>0.547998</td>\n",
       "      <td>0.782698</td>\n",
       "      <td>0.348962</td>\n",
       "      <td>0.043478</td>\n",
       "      <td>0.104962</td>\n",
       "      <td>...</td>\n",
       "      <td>0.011017</td>\n",
       "      <td>0.058064</td>\n",
       "      <td>0.104962</td>\n",
       "      <td>0.021462</td>\n",
       "      <td>0.306021</td>\n",
       "      <td>0.553191</td>\n",
       "      <td>0.113111</td>\n",
       "      <td>1.000000</td>\n",
       "      <td>0.204470</td>\n",
       "      <td>0.041808</td>\n",
       "    </tr>\n",
       "    <tr>\n",
       "      <th>2</th>\n",
       "      <td>0.000236</td>\n",
       "      <td>0.00</td>\n",
       "      <td>0.242302</td>\n",
       "      <td>0.0</td>\n",
       "      <td>0.172840</td>\n",
       "      <td>0.694386</td>\n",
       "      <td>0.599382</td>\n",
       "      <td>0.348962</td>\n",
       "      <td>0.043478</td>\n",
       "      <td>0.104962</td>\n",
       "      <td>...</td>\n",
       "      <td>0.011017</td>\n",
       "      <td>0.058064</td>\n",
       "      <td>0.103885</td>\n",
       "      <td>0.006661</td>\n",
       "      <td>0.306021</td>\n",
       "      <td>0.547514</td>\n",
       "      <td>0.035109</td>\n",
       "      <td>0.979580</td>\n",
       "      <td>0.062814</td>\n",
       "      <td>0.004028</td>\n",
       "    </tr>\n",
       "    <tr>\n",
       "      <th>3</th>\n",
       "      <td>0.000293</td>\n",
       "      <td>0.00</td>\n",
       "      <td>0.063050</td>\n",
       "      <td>0.0</td>\n",
       "      <td>0.150206</td>\n",
       "      <td>0.658555</td>\n",
       "      <td>0.441813</td>\n",
       "      <td>0.448545</td>\n",
       "      <td>0.086957</td>\n",
       "      <td>0.066794</td>\n",
       "      <td>...</td>\n",
       "      <td>0.004461</td>\n",
       "      <td>0.043345</td>\n",
       "      <td>0.066412</td>\n",
       "      <td>0.002230</td>\n",
       "      <td>0.421118</td>\n",
       "      <td>0.645222</td>\n",
       "      <td>0.021667</td>\n",
       "      <td>0.988585</td>\n",
       "      <td>0.033197</td>\n",
       "      <td>0.001115</td>\n",
       "    </tr>\n",
       "    <tr>\n",
       "      <th>4</th>\n",
       "      <td>0.000705</td>\n",
       "      <td>0.00</td>\n",
       "      <td>0.063050</td>\n",
       "      <td>0.0</td>\n",
       "      <td>0.150206</td>\n",
       "      <td>0.687105</td>\n",
       "      <td>0.528321</td>\n",
       "      <td>0.448545</td>\n",
       "      <td>0.086957</td>\n",
       "      <td>0.066794</td>\n",
       "      <td>...</td>\n",
       "      <td>0.004461</td>\n",
       "      <td>0.043345</td>\n",
       "      <td>0.066794</td>\n",
       "      <td>0.006635</td>\n",
       "      <td>0.421118</td>\n",
       "      <td>0.648936</td>\n",
       "      <td>0.064464</td>\n",
       "      <td>1.000000</td>\n",
       "      <td>0.099338</td>\n",
       "      <td>0.009868</td>\n",
       "    </tr>\n",
       "    <tr>\n",
       "      <th>...</th>\n",
       "      <td>...</td>\n",
       "      <td>...</td>\n",
       "      <td>...</td>\n",
       "      <td>...</td>\n",
       "      <td>...</td>\n",
       "      <td>...</td>\n",
       "      <td>...</td>\n",
       "      <td>...</td>\n",
       "      <td>...</td>\n",
       "      <td>...</td>\n",
       "      <td>...</td>\n",
       "      <td>...</td>\n",
       "      <td>...</td>\n",
       "      <td>...</td>\n",
       "      <td>...</td>\n",
       "      <td>...</td>\n",
       "      <td>...</td>\n",
       "      <td>...</td>\n",
       "      <td>...</td>\n",
       "      <td>...</td>\n",
       "      <td>...</td>\n",
       "    </tr>\n",
       "    <tr>\n",
       "      <th>501</th>\n",
       "      <td>0.000633</td>\n",
       "      <td>0.00</td>\n",
       "      <td>0.420455</td>\n",
       "      <td>0.0</td>\n",
       "      <td>0.386831</td>\n",
       "      <td>0.580954</td>\n",
       "      <td>0.681771</td>\n",
       "      <td>0.122671</td>\n",
       "      <td>0.000000</td>\n",
       "      <td>0.164122</td>\n",
       "      <td>...</td>\n",
       "      <td>0.026936</td>\n",
       "      <td>0.146662</td>\n",
       "      <td>0.162090</td>\n",
       "      <td>0.035958</td>\n",
       "      <td>0.798551</td>\n",
       "      <td>0.882553</td>\n",
       "      <td>0.195787</td>\n",
       "      <td>0.975392</td>\n",
       "      <td>0.216382</td>\n",
       "      <td>0.048003</td>\n",
       "    </tr>\n",
       "    <tr>\n",
       "      <th>502</th>\n",
       "      <td>0.000438</td>\n",
       "      <td>0.00</td>\n",
       "      <td>0.420455</td>\n",
       "      <td>0.0</td>\n",
       "      <td>0.386831</td>\n",
       "      <td>0.490324</td>\n",
       "      <td>0.760041</td>\n",
       "      <td>0.105293</td>\n",
       "      <td>0.000000</td>\n",
       "      <td>0.164122</td>\n",
       "      <td>...</td>\n",
       "      <td>0.026936</td>\n",
       "      <td>0.146662</td>\n",
       "      <td>0.164122</td>\n",
       "      <td>0.033286</td>\n",
       "      <td>0.798551</td>\n",
       "      <td>0.893617</td>\n",
       "      <td>0.181239</td>\n",
       "      <td>1.000000</td>\n",
       "      <td>0.202815</td>\n",
       "      <td>0.041134</td>\n",
       "    </tr>\n",
       "    <tr>\n",
       "      <th>503</th>\n",
       "      <td>0.000612</td>\n",
       "      <td>0.00</td>\n",
       "      <td>0.420455</td>\n",
       "      <td>0.0</td>\n",
       "      <td>0.386831</td>\n",
       "      <td>0.654340</td>\n",
       "      <td>0.907312</td>\n",
       "      <td>0.094381</td>\n",
       "      <td>0.000000</td>\n",
       "      <td>0.164122</td>\n",
       "      <td>...</td>\n",
       "      <td>0.026936</td>\n",
       "      <td>0.146662</td>\n",
       "      <td>0.164122</td>\n",
       "      <td>0.017707</td>\n",
       "      <td>0.798551</td>\n",
       "      <td>0.893617</td>\n",
       "      <td>0.096414</td>\n",
       "      <td>1.000000</td>\n",
       "      <td>0.107892</td>\n",
       "      <td>0.011641</td>\n",
       "    </tr>\n",
       "    <tr>\n",
       "      <th>504</th>\n",
       "      <td>0.001161</td>\n",
       "      <td>0.00</td>\n",
       "      <td>0.420455</td>\n",
       "      <td>0.0</td>\n",
       "      <td>0.386831</td>\n",
       "      <td>0.619467</td>\n",
       "      <td>0.889804</td>\n",
       "      <td>0.114514</td>\n",
       "      <td>0.000000</td>\n",
       "      <td>0.164122</td>\n",
       "      <td>...</td>\n",
       "      <td>0.026936</td>\n",
       "      <td>0.146662</td>\n",
       "      <td>0.162694</td>\n",
       "      <td>0.021512</td>\n",
       "      <td>0.798551</td>\n",
       "      <td>0.885843</td>\n",
       "      <td>0.117127</td>\n",
       "      <td>0.982677</td>\n",
       "      <td>0.129930</td>\n",
       "      <td>0.017180</td>\n",
       "    </tr>\n",
       "    <tr>\n",
       "      <th>505</th>\n",
       "      <td>0.000462</td>\n",
       "      <td>0.00</td>\n",
       "      <td>0.420455</td>\n",
       "      <td>0.0</td>\n",
       "      <td>0.386831</td>\n",
       "      <td>0.473079</td>\n",
       "      <td>0.802266</td>\n",
       "      <td>0.125072</td>\n",
       "      <td>0.000000</td>\n",
       "      <td>0.164122</td>\n",
       "      <td>...</td>\n",
       "      <td>0.026936</td>\n",
       "      <td>0.146662</td>\n",
       "      <td>0.164122</td>\n",
       "      <td>0.027852</td>\n",
       "      <td>0.798551</td>\n",
       "      <td>0.893617</td>\n",
       "      <td>0.151649</td>\n",
       "      <td>1.000000</td>\n",
       "      <td>0.169702</td>\n",
       "      <td>0.028799</td>\n",
       "    </tr>\n",
       "  </tbody>\n",
       "</table>\n",
       "<p>506 rows × 104 columns</p>\n",
       "</div>"
      ],
      "text/plain": [
       "          0     1         2    3         4         5         6         7    \\\n",
       "0    0.000000  0.18  0.067815  0.0  0.314815  0.577505  0.641607  0.269203   \n",
       "1    0.000236  0.00  0.242302  0.0  0.172840  0.547998  0.782698  0.348962   \n",
       "2    0.000236  0.00  0.242302  0.0  0.172840  0.694386  0.599382  0.348962   \n",
       "3    0.000293  0.00  0.063050  0.0  0.150206  0.658555  0.441813  0.448545   \n",
       "4    0.000705  0.00  0.063050  0.0  0.150206  0.687105  0.528321  0.448545   \n",
       "..        ...   ...       ...  ...       ...       ...       ...       ...   \n",
       "501  0.000633  0.00  0.420455  0.0  0.386831  0.580954  0.681771  0.122671   \n",
       "502  0.000438  0.00  0.420455  0.0  0.386831  0.490324  0.760041  0.105293   \n",
       "503  0.000612  0.00  0.420455  0.0  0.386831  0.654340  0.907312  0.094381   \n",
       "504  0.001161  0.00  0.420455  0.0  0.386831  0.619467  0.889804  0.114514   \n",
       "505  0.000462  0.00  0.420455  0.0  0.386831  0.473079  0.802266  0.125072   \n",
       "\n",
       "          8         9    ...       94        95        96        97   \\\n",
       "0    0.000000  0.208015  ...  0.043270  0.059749  0.208015  0.018655   \n",
       "1    0.043478  0.104962  ...  0.011017  0.058064  0.104962  0.021462   \n",
       "2    0.043478  0.104962  ...  0.011017  0.058064  0.103885  0.006661   \n",
       "3    0.086957  0.066794  ...  0.004461  0.043345  0.066412  0.002230   \n",
       "4    0.086957  0.066794  ...  0.004461  0.043345  0.066794  0.006635   \n",
       "..        ...       ...  ...       ...       ...       ...       ...   \n",
       "501  0.000000  0.164122  ...  0.026936  0.146662  0.162090  0.035958   \n",
       "502  0.000000  0.164122  ...  0.026936  0.146662  0.164122  0.033286   \n",
       "503  0.000000  0.164122  ...  0.026936  0.146662  0.164122  0.017707   \n",
       "504  0.000000  0.164122  ...  0.026936  0.146662  0.162694  0.021512   \n",
       "505  0.000000  0.164122  ...  0.026936  0.146662  0.164122  0.027852   \n",
       "\n",
       "          98        99        100       101       102       103  \n",
       "0    0.082503  0.287234  0.025759  1.000000  0.089680  0.008042  \n",
       "1    0.306021  0.553191  0.113111  1.000000  0.204470  0.041808  \n",
       "2    0.306021  0.547514  0.035109  0.979580  0.062814  0.004028  \n",
       "3    0.421118  0.645222  0.021667  0.988585  0.033197  0.001115  \n",
       "4    0.421118  0.648936  0.064464  1.000000  0.099338  0.009868  \n",
       "..        ...       ...       ...       ...       ...       ...  \n",
       "501  0.798551  0.882553  0.195787  0.975392  0.216382  0.048003  \n",
       "502  0.798551  0.893617  0.181239  1.000000  0.202815  0.041134  \n",
       "503  0.798551  0.893617  0.096414  1.000000  0.107892  0.011641  \n",
       "504  0.798551  0.885843  0.117127  0.982677  0.129930  0.017180  \n",
       "505  0.798551  0.893617  0.151649  1.000000  0.169702  0.028799  \n",
       "\n",
       "[506 rows x 104 columns]"
      ]
     },
     "execution_count": 3,
     "metadata": {},
     "output_type": "execute_result"
    }
   ],
   "source": [
    "pd.DataFrame(X_data)"
   ]
  },
  {
   "cell_type": "markdown",
   "metadata": {},
   "source": [
    "### DataFrame 을 train test 로 나눈다 & Linear Regression library 를 사용하여 W 값 예측"
   ]
  },
  {
   "cell_type": "markdown",
   "metadata": {},
   "source": [
    "### Shuffle data and Split train, Test"
   ]
  },
  {
   "cell_type": "markdown",
   "metadata": {},
   "source": [
    "##### 1. Shuffle"
   ]
  },
  {
   "cell_type": "code",
   "execution_count": 4,
   "metadata": {},
   "outputs": [],
   "source": [
    "N = X_data.shape[0]"
   ]
  },
  {
   "cell_type": "code",
   "execution_count": 5,
   "metadata": {},
   "outputs": [
    {
     "name": "stdout",
     "output_type": "stream",
     "text": [
      "506\n"
     ]
    }
   ],
   "source": [
    "np.random.seed(3)\n",
    "\n",
    "idx = np.random.permutation(N)\n",
    "print(len(idx))"
   ]
  },
  {
   "cell_type": "code",
   "execution_count": 6,
   "metadata": {
    "scrolled": false
   },
   "outputs": [],
   "source": [
    "shuffle_X = X_data[idx]\n",
    "shuffle_y = y_data[idx]"
   ]
  },
  {
   "cell_type": "markdown",
   "metadata": {},
   "source": [
    "##### 2. Split train test"
   ]
  },
  {
   "cell_type": "code",
   "execution_count": 7,
   "metadata": {},
   "outputs": [],
   "source": [
    "# 3:1 의 비율로 train test 를 나눔\n",
    "n = int(N * (3/4))\n",
    "\n",
    "# train data\n",
    "X_train = shuffle_X[:n]\n",
    "y_train = shuffle_y[:n]"
   ]
  },
  {
   "cell_type": "code",
   "execution_count": 8,
   "metadata": {},
   "outputs": [],
   "source": [
    "# test data\n",
    "X_test = shuffle_X[n:]\n",
    "y_test = shuffle_y[n:]"
   ]
  },
  {
   "cell_type": "code",
   "execution_count": 9,
   "metadata": {},
   "outputs": [
    {
     "name": "stdout",
     "output_type": "stream",
     "text": [
      "(379, 104)\n",
      "(127, 104)\n",
      "506\n"
     ]
    }
   ],
   "source": [
    "print(X_train.shape)\n",
    "print(X_test.shape)\n",
    "print(X_train.shape[0] + X_test.shape[0])"
   ]
  },
  {
   "cell_type": "markdown",
   "metadata": {},
   "source": [
    "### Perform Linear Regression"
   ]
  },
  {
   "cell_type": "code",
   "execution_count": 10,
   "metadata": {},
   "outputs": [],
   "source": [
    "reg = LinearRegression()\n",
    "reg.fit(X_train, y_train)\n",
    "\n",
    "y_pred = reg.predict(X_test)"
   ]
  },
  {
   "cell_type": "code",
   "execution_count": 11,
   "metadata": {},
   "outputs": [],
   "source": [
    "# Loss function\n",
    "def MSE(real, predict):\n",
    "    return ((real-predict)**2).mean()"
   ]
  },
  {
   "cell_type": "markdown",
   "metadata": {},
   "source": [
    "### model.score → R square"
   ]
  },
  {
   "cell_type": "markdown",
   "metadata": {},
   "source": [
    "모델의 성능을 평가하기 위해 R^2 (R square) 를 이용"
   ]
  },
  {
   "cell_type": "markdown",
   "metadata": {},
   "source": [
    "$\n",
    "\\begin{align}\n",
    "R^{2} = 1 - {\\sum(오차^2) \\over \\sum(편차^2)}\n",
    "\\end{align}\n",
    "$"
   ]
  },
  {
   "cell_type": "markdown",
   "metadata": {},
   "source": [
    "오차 = 실제값 - 예측값<br>\n",
    "편차 = 실제값 - 평균값<br>\n",
    "\n",
    "예측을 완벽하게 해서 실제값 = 예측값 이라면? → R^2 = 1<br>\n",
    "예측을 모두 평균값으로 했다면? → R^2 = 0 (쓸 수 없는 모델)"
   ]
  },
  {
   "cell_type": "markdown",
   "metadata": {},
   "source": [
    "##### R^2 과 MSE 를 구해보자"
   ]
  },
  {
   "cell_type": "code",
   "execution_count": 12,
   "metadata": {},
   "outputs": [
    {
     "name": "stdout",
     "output_type": "stream",
     "text": [
      "Training R^2 score:0.94\n",
      "Test R^2 score:0.51\n",
      "Mean squared error:40.31\n"
     ]
    }
   ],
   "source": [
    "print(\"Training R^2 score:{:0.2f}\".format(reg.score(X_train, y_train)))\n",
    "print(\"Test R^2 score:{:0.2f}\".format(reg.score(X_test, y_test)))\n",
    "print('Mean squared error:{:0.2f}'.format(MSE(y_test, y_pred)))"
   ]
  },
  {
   "cell_type": "markdown",
   "metadata": {},
   "source": [
    "##### W 의 값은?"
   ]
  },
  {
   "cell_type": "markdown",
   "metadata": {},
   "source": [
    "가장 높은 W 값과 가장 낮은 W 값을 3개씩 가져와보자"
   ]
  },
  {
   "cell_type": "code",
   "execution_count": 13,
   "metadata": {},
   "outputs": [],
   "source": [
    "W = reg.coef_"
   ]
  },
  {
   "cell_type": "code",
   "execution_count": 14,
   "metadata": {},
   "outputs": [],
   "source": [
    "top_3_idx = np.argsort(W)[-3:]\n",
    "bottom_3_idx = np.argsort(W)[:3]"
   ]
  },
  {
   "cell_type": "code",
   "execution_count": 15,
   "metadata": {},
   "outputs": [],
   "source": [
    "top_3_values = [W[i] for i in top_3_idx]\n",
    "bottom_3_values = [W[i] for i in bottom_3_idx]"
   ]
  },
  {
   "cell_type": "code",
   "execution_count": 16,
   "metadata": {},
   "outputs": [
    {
     "name": "stdout",
     "output_type": "stream",
     "text": [
      "Linear Regression의 가장 높은 W 의 값 3개 => ['855.62', '1800.86', '3962.11']\n",
      "Linear Regression의 가장 낮은 W 의 값 3개 => ['-1224.22', '-844.95', '-279.20']\n"
     ]
    }
   ],
   "source": [
    "print(\"Linear Regression의 가장 높은 W 의 값 3개 =>\",[\"{:0.2f}\".format(x) for x in top_3_values])\n",
    "print(\"Linear Regression의 가장 낮은 W 의 값 3개 =>\",[\"{:0.2f}\".format(x) for x in bottom_3_values])"
   ]
  },
  {
   "cell_type": "code",
   "execution_count": 17,
   "metadata": {},
   "outputs": [],
   "source": [
    "### Optional (함수처리)\n",
    "\n",
    "def get_top_bottom(data, count):\n",
    "    top_idx = np.argsort(data)[-count:]\n",
    "    bottom_idx = np.argsort(data)[:count]\n",
    "    \n",
    "    top_values = [data[i] for i in top_idx]\n",
    "    bottom_values = [data[i] for i in bottom_idx]\n",
    "    \n",
    "    return top_values, bottom_values"
   ]
  },
  {
   "cell_type": "markdown",
   "metadata": {},
   "source": [
    "## Regularization\n",
    "<br>\n",
    "Training Set 의 Score 과 Test Set 의 Score 가 너무 차이가 난다<br>\n",
    " → Overfitting 이다<br>\n",
    " → Regularization 필요"
   ]
  },
  {
   "cell_type": "markdown",
   "metadata": {},
   "source": [
    "### Ridge Regression"
   ]
  },
  {
   "cell_type": "code",
   "execution_count": 18,
   "metadata": {},
   "outputs": [],
   "source": [
    "from sklearn.linear_model import Ridge\n",
    "\n",
    "ridge1 = Ridge()\n",
    "\n",
    "ridge1.fit(X_train, y_train)\n",
    "ridge1_pred = ridge1.predict(X_test)"
   ]
  },
  {
   "cell_type": "code",
   "execution_count": 19,
   "metadata": {
    "scrolled": true
   },
   "outputs": [
    {
     "name": "stdout",
     "output_type": "stream",
     "text": [
      "Training score:0.87\n",
      "Test score:0.81\n",
      "Mean squared error:15.81\n"
     ]
    }
   ],
   "source": [
    "print(\"Training score:{:0.2f}\".format(ridge1.score(X_train, y_train)))\n",
    "print(\"Test score:{:0.2f}\".format(ridge1.score(X_test, y_test)))\n",
    "print(\"Mean squared error:{:0.2f}\".format(MSE(y_test, ridge1_pred)))"
   ]
  },
  {
   "cell_type": "markdown",
   "metadata": {},
   "source": [
    "##### W values?"
   ]
  },
  {
   "cell_type": "code",
   "execution_count": 20,
   "metadata": {},
   "outputs": [],
   "source": [
    "W = ridge1.coef_"
   ]
  },
  {
   "cell_type": "code",
   "execution_count": 21,
   "metadata": {},
   "outputs": [
    {
     "name": "stdout",
     "output_type": "stream",
     "text": [
      "가장 높은 W 의 값 3개 => ['8.92', '10.46', '17.36']\n",
      "가장 낮은 W 의 값 3개 => ['-9.52', '-8.48', '-7.32']\n"
     ]
    }
   ],
   "source": [
    "top_values, bottom_values = get_top_bottom(W,3)\n",
    "\n",
    "print(\"가장 높은 W 의 값 3개 =>\",[\"{:0.2f}\".format(x) for x in top_values])\n",
    "print(\"가장 낮은 W 의 값 3개 =>\",[\"{:0.2f}\".format(x) for x in bottom_values])"
   ]
  },
  {
   "cell_type": "markdown",
   "metadata": {},
   "source": [
    "##### W 의 크기가 확연하게 줄었음을 확인 할 수 있다"
   ]
  },
  {
   "cell_type": "markdown",
   "metadata": {},
   "source": [
    "#### Lambda (alpha 의 크기를 바꿔보자)"
   ]
  },
  {
   "cell_type": "code",
   "execution_count": 22,
   "metadata": {},
   "outputs": [
    {
     "name": "stdout",
     "output_type": "stream",
     "text": [
      "Training score:0.91\n",
      "Test score:0.85\n",
      "Mean squared error:12.56\n"
     ]
    }
   ],
   "source": [
    "ridge01 = Ridge(alpha=0.1)\n",
    "\n",
    "ridge01.fit(X_train, y_train)\n",
    "\n",
    "ridge_pred01 = ridge01.predict(X_test)\n",
    "\n",
    "print(\"Training score:{:0.2f}\".format(ridge01.score(X_train, y_train)))\n",
    "print(\"Test score:{:0.2f}\".format(ridge01.score(X_test, y_test)))\n",
    "print(\"Mean squared error:{:0.2f}\".format(MSE(y_test, ridge_pred01)))"
   ]
  },
  {
   "cell_type": "code",
   "execution_count": 23,
   "metadata": {},
   "outputs": [
    {
     "name": "stdout",
     "output_type": "stream",
     "text": [
      "Training score:0.88\n",
      "Test score:0.83\n",
      "Mean squared error:14.17\n"
     ]
    }
   ],
   "source": [
    "ridge05 = Ridge(alpha=0.5)\n",
    "ridge05.fit(X_train, y_train)\n",
    "\n",
    "ridge_pred05 = ridge05.predict(X_test)\n",
    "\n",
    "print(\"Training score:{:0.2f}\".format(ridge05.score(X_train, y_train)))\n",
    "print(\"Test score:{:0.2f}\".format(ridge05.score(X_test, y_test)))\n",
    "print(\"Mean squared error:{:0.2f}\".format(MSE(y_test, ridge_pred05)))"
   ]
  },
  {
   "cell_type": "code",
   "execution_count": 24,
   "metadata": {
    "scrolled": true
   },
   "outputs": [
    {
     "name": "stdout",
     "output_type": "stream",
     "text": [
      "Training score:0.77\n",
      "Test score:0.71\n",
      "Mean squared error:24.04\n"
     ]
    }
   ],
   "source": [
    "ridge10 = Ridge(alpha=10)\n",
    "ridge10.fit(X_train, y_train)\n",
    "\n",
    "ridge_pred10 = ridge10.predict(X_test)\n",
    "\n",
    "print(\"Training score:{:0.2f}\".format(ridge10.score(X_train, y_train)))\n",
    "print(\"Test score:{:0.2f}\".format(ridge10.score(X_test, y_test)))\n",
    "print(\"Mean squared error:{:0.2f}\".format(MSE(y_test, ridge_pred10)))"
   ]
  },
  {
   "cell_type": "markdown",
   "metadata": {},
   "source": [
    "### Score  Plotting"
   ]
  },
  {
   "cell_type": "code",
   "execution_count": 25,
   "metadata": {},
   "outputs": [],
   "source": [
    "# alpha 값을 연속적으로 정의\n",
    "alpha = []\n",
    "\n",
    "for i in range(1,101,1):\n",
    "    alpha.append(i/10)"
   ]
  },
  {
   "cell_type": "code",
   "execution_count": 26,
   "metadata": {},
   "outputs": [],
   "source": [
    "train_score = []\n",
    "test_score = []\n",
    "\n",
    "for i in alpha:\n",
    "    ridge = Ridge(alpha=i)\n",
    "    ridge.fit(X_train,y_train)\n",
    "    \n",
    "    ridge_train_score = ridge.score(X_train, y_train)\n",
    "    ridge_test_score = ridge.score(X_test, y_test)\n",
    "\n",
    "    train_score.append(ridge_train_score)\n",
    "    test_score.append(ridge_test_score)"
   ]
  },
  {
   "cell_type": "code",
   "execution_count": 27,
   "metadata": {
    "scrolled": false
   },
   "outputs": [
    {
     "data": {
      "image/png": "[encoded data removed]",
      "text/plain": [
       "<Figure size 432x288 with 1 Axes>"
      ]
     },
     "metadata": {
      "needs_background": "light"
     },
     "output_type": "display_data"
    }
   ],
   "source": [
    "plt.grid(linestyle='--')\n",
    "\n",
    "plt.plot(alpha,train_score, color=\"g\", label=\"Train Score\")\n",
    "plt.plot(alpha,test_score, color=\"c\", label=\"Test Score\")\n",
    "\n",
    "plt.title(\"Ridge Score\")\n",
    "plt.legend(loc='best')\n",
    "\n",
    "plt.xlabel(\"Alpha\")\n",
    "plt.ylabel(\"Score\")\n",
    "\n",
    "plt.show()"
   ]
  },
  {
   "cell_type": "markdown",
   "metadata": {},
   "source": [
    "### W 의 크기 확인"
   ]
  },
  {
   "cell_type": "markdown",
   "metadata": {},
   "source": [
    "다음의 그림으로 w 값의 변화량을 알 수 있다<br>\n",
    "alpha 값이 클수록 규제 강도가 강해지기 때문에 w 의 절대값이 크기가 작아짐을 알 수 있다.<br>\n",
    "https://matplotlib.org/api/markers_api.html 에서 그래프의 dot 모양을 확인 할 수 있다"
   ]
  },
  {
   "cell_type": "code",
   "execution_count": 28,
   "metadata": {},
   "outputs": [
    {
     "data": {
      "text/plain": [
       "Text(0, 0.5, 'W values')"
      ]
     },
     "execution_count": 28,
     "metadata": {},
     "output_type": "execute_result"
    },
    {
     "data": {
      "image/png": "[encoded data removed]",
      "text/plain": [
       "<Figure size 936x504 with 1 Axes>"
      ]
     },
     "metadata": {
      "needs_background": "light"
     },
     "output_type": "display_data"
    }
   ],
   "source": [
    "plt.figure(figsize=(13,7))\n",
    "\n",
    "plt.plot(reg.coef_, 'p', label=\"LinearRegression\") # o = 원\n",
    "plt.plot(ridge01.coef_, '.', label=\"alpha=0.1\") # v = 아래 삼각형\n",
    "plt.plot(ridge05.coef_, 'v', label=\"alpha=0.5\") # v = 아래 삼각형\n",
    "plt.plot(ridge1.coef_, 'o', label=\"alpha=1\") # s = 사각형\n",
    "plt.plot(ridge10.coef_, 'P', label=\"alpha=10\") # ^ = 윗 삼각형\n",
    "\n",
    "plt.ylim(-50, 50) # y 축의 범위\n",
    "\n",
    "plt.legend(loc='center', bbox_to_anchor=(1.2, 0.5)) # bbox_to_anchor=(1.2, 0.5) <= 레전드의 위치\n",
    "\n",
    "plt.ylabel(\"W values\")"
   ]
  },
  {
   "cell_type": "markdown",
   "metadata": {},
   "source": [
    "### Lasso Regression"
   ]
  },
  {
   "cell_type": "markdown",
   "metadata": {},
   "source": [
    "Ridge 를 했으니 당연히 Lasso 도 해주어야한다!"
   ]
  },
  {
   "cell_type": "code",
   "execution_count": 29,
   "metadata": {},
   "outputs": [],
   "source": [
    "from sklearn.linear_model import Lasso\n",
    "\n",
    "lasso1 = Lasso()\n",
    "\n",
    "lasso1.fit(X_train, y_train)\n",
    "lasso1_pred = lasso1.predict(X_test)"
   ]
  },
  {
   "cell_type": "code",
   "execution_count": 30,
   "metadata": {},
   "outputs": [
    {
     "name": "stdout",
     "output_type": "stream",
     "text": [
      "Training score:0.24\n",
      "Test score:0.23\n",
      "Mean squared error:62.44\n",
      "Features: 4\n"
     ]
    }
   ],
   "source": [
    "print(\"Training score:{:0.2f}\".format(lasso1.score(X_train, y_train)))\n",
    "print(\"Test score:{:0.2f}\".format(lasso1.score(X_test, y_test)))\n",
    "print(\"Mean squared error:{:0.2f}\".format(MSE(y_test, lasso1_pred)))\n",
    "\n",
    "print(\"Features:\", np.sum(lasso1.coef_ != 0)) # lasso.coef_ 는 w 이므로 w 의 값이  0이 아닌 것만 np.sum 으로 카운트"
   ]
  },
  {
   "cell_type": "code",
   "execution_count": 31,
   "metadata": {
    "scrolled": true
   },
   "outputs": [
    {
     "data": {
      "text/plain": [
       "array([-0.        ,  0.        , -0.        ,  0.        , -0.        ,\n",
       "        0.        , -0.        ,  0.        , -0.        , -0.        ,\n",
       "       -0.        ,  0.        , -4.55880522, -0.        ,  0.        ,\n",
       "       -0.        ,  0.        , -0.        , -0.        , -0.        ,\n",
       "       -0.        , -0.        , -0.        , -0.        , -0.        ,\n",
       "       -0.        ,  0.        ,  0.        ,  0.        ,  0.        ,\n",
       "        0.        ,  0.        ,  0.        ,  0.        ,  0.        ,\n",
       "        0.        ,  0.        ,  0.        , -0.        ,  0.        ,\n",
       "       -0.        , -0.        , -0.        , -0.        , -0.        ,\n",
       "       -0.        , -0.        , -0.        , -0.        ,  0.        ,\n",
       "        0.        ,  0.        ,  0.        ,  0.        ,  0.        ,\n",
       "        0.        ,  0.        ,  0.        , -0.        , -0.        ,\n",
       "       -0.        , -0.        , -0.        , -0.        , -0.        ,\n",
       "       -0.        , -0.        , -0.        ,  0.        ,  0.        ,\n",
       "        0.        , -0.        , -0.        , -0.        ,  0.61774044,\n",
       "       -0.        , -0.        , -0.        , -0.        , -0.        ,\n",
       "       -2.60417701, -0.        , -0.        ,  0.        , -0.        ,\n",
       "       -0.        , -0.        ,  0.        , -0.        , -0.9905779 ,\n",
       "       -0.        , -0.        , -0.        , -0.        , -0.        ,\n",
       "       -0.        , -0.        , -0.        , -0.        , -0.        ,\n",
       "       -0.        ,  0.        , -0.        , -0.        ])"
      ]
     },
     "execution_count": 31,
     "metadata": {},
     "output_type": "execute_result"
    }
   ],
   "source": [
    "W = lasso1.coef_\n",
    "W"
   ]
  },
  {
   "cell_type": "code",
   "execution_count": 32,
   "metadata": {},
   "outputs": [],
   "source": [
    "# warning message 제거\n",
    "\n",
    "import warnings\n",
    "warnings.filterwarnings(action='ignore')"
   ]
  },
  {
   "cell_type": "code",
   "execution_count": 33,
   "metadata": {},
   "outputs": [
    {
     "name": "stdout",
     "output_type": "stream",
     "text": [
      "Training score:0.87\n",
      "Test score:0.82\n",
      "Mean squared error:15.04\n",
      "Features: 31\n"
     ]
    }
   ],
   "source": [
    "lasso001 = Lasso(alpha=0.01)\n",
    "\n",
    "lasso001.fit(X_train, y_train)\n",
    "\n",
    "lasso_pred001 = lasso001.predict(X_test)\n",
    "\n",
    "print(\"Training score:{:0.2f}\".format(lasso001.score(X_train, y_train)))\n",
    "print(\"Test score:{:0.2f}\".format(lasso001.score(X_test, y_test)))\n",
    "print(\"Mean squared error:{:0.2f}\".format(MSE(y_test, lasso_pred001)))\n",
    "\n",
    "print(\"Features:\", np.sum(lasso001.coef_ != 0))"
   ]
  },
  {
   "cell_type": "code",
   "execution_count": 34,
   "metadata": {},
   "outputs": [
    {
     "name": "stdout",
     "output_type": "stream",
     "text": [
      "Training score:0.92\n",
      "Test score:0.83\n",
      "Mean squared error:13.75\n",
      "Features: 78\n"
     ]
    }
   ],
   "source": [
    "lasso0001 = Lasso(alpha=0.001)\n",
    "\n",
    "lasso0001.fit(X_train, y_train)\n",
    "\n",
    "lasso_pred0001 = lasso0001.predict(X_test)\n",
    "\n",
    "print(\"Training score:{:0.2f}\".format(lasso0001.score(X_train, y_train)))\n",
    "print(\"Test score:{:0.2f}\".format(lasso0001.score(X_test, y_test)))\n",
    "print(\"Mean squared error:{:0.2f}\".format(MSE(y_test, lasso_pred0001)))\n",
    "\n",
    "print(\"Features:\", np.sum(lasso0001.coef_ != 0))"
   ]
  },
  {
   "cell_type": "code",
   "execution_count": 35,
   "metadata": {
    "scrolled": false
   },
   "outputs": [
    {
     "name": "stdout",
     "output_type": "stream",
     "text": [
      "Training score:0.93\n",
      "Test score:0.82\n",
      "Mean squared error:14.89\n",
      "Features: 101\n"
     ]
    }
   ],
   "source": [
    "lasso00001 = Lasso(alpha=0.0001)\n",
    "\n",
    "lasso00001.fit(X_train, y_train)\n",
    "\n",
    "lasso_pred00001 = lasso00001.predict(X_test)\n",
    "\n",
    "print(\"Training score:{:0.2f}\".format(lasso00001.score(X_train, y_train)))\n",
    "print(\"Test score:{:0.2f}\".format(lasso00001.score(X_test, y_test)))\n",
    "print(\"Mean squared error:{:0.2f}\".format(MSE(y_test, lasso_pred00001)))\n",
    "\n",
    "print(\"Features:\", np.sum(lasso00001.coef_ != 0))"
   ]
  },
  {
   "cell_type": "code",
   "execution_count": 36,
   "metadata": {},
   "outputs": [],
   "source": [
    "# alpha 값을 연속적으로 정의\n",
    "alpha = []\n",
    "\n",
    "for i in range(1,101,1):\n",
    "    alpha.append(i/100)"
   ]
  },
  {
   "cell_type": "code",
   "execution_count": 37,
   "metadata": {},
   "outputs": [],
   "source": [
    "train_score = []\n",
    "test_score = []\n",
    "\n",
    "for i in alpha:\n",
    "    lasso = Lasso(alpha=i)\n",
    "    lasso.fit(X_train,y_train)\n",
    "    \n",
    "    lasso_train_score = lasso.score(X_train, y_train)\n",
    "    lasso_test_score = lasso.score(X_test, y_test)\n",
    "\n",
    "    train_score.append(lasso_train_score)\n",
    "    test_score.append(lasso_test_score)"
   ]
  },
  {
   "cell_type": "code",
   "execution_count": 38,
   "metadata": {
    "scrolled": false
   },
   "outputs": [
    {
     "data": {
      "image/png": "[encoded data removed]",
      "text/plain": [
       "<Figure size 432x288 with 1 Axes>"
      ]
     },
     "metadata": {
      "needs_background": "light"
     },
     "output_type": "display_data"
    }
   ],
   "source": [
    "plt.grid(linestyle='--')\n",
    "\n",
    "plt.plot(alpha,train_score, color=\"g\", label=\"Train Score\")\n",
    "plt.plot(alpha,test_score, color=\"c\", label=\"Test Score\")\n",
    "\n",
    "plt.title(\"Ridge Score\")\n",
    "plt.legend(loc='best')\n",
    "\n",
    "plt.xlabel(\"Alpha\")\n",
    "plt.ylabel(\"Score\")\n",
    "\n",
    "plt.show()"
   ]
  },
  {
   "cell_type": "code",
   "execution_count": 39,
   "metadata": {},
   "outputs": [
    {
     "data": {
      "text/plain": [
       "Text(0, 0.5, 'W values')"
      ]
     },
     "execution_count": 39,
     "metadata": {},
     "output_type": "execute_result"
    },
    {
     "data": {
      "image/png": "[encoded data removed]",
      "text/plain": [
       "<Figure size 936x504 with 1 Axes>"
      ]
     },
     "metadata": {
      "needs_background": "light"
     },
     "output_type": "display_data"
    }
   ],
   "source": [
    "# alpha=1 이면 규제가 굉장히 커지므로 대부분의 w 값이 0 으로 수렴하게 된다\n",
    "# 반대로 alpha 값이 작아지면 작아질수록 w 값이 점점 규제를 받지 않아 LinearRegression 과 같은 분포를 띄게 된다\n",
    "\n",
    "plt.figure(figsize=(13,7))\n",
    "\n",
    "plt.plot(reg.coef_, 'p', label=\"LinearRegression\") # o = 원\n",
    "plt.plot(lasso1.coef_, '.', label=\"alpha=1\") # v = 아래 삼각형\n",
    "plt.plot(lasso001.coef_, 'v', label=\"alpha=0.01\") # v = 아래 삼각형\n",
    "plt.plot(lasso0001.coef_, 'o', label=\"alpha=0.001\") # s = 사각형\n",
    "plt.plot(lasso00001.coef_, 'P', label=\"alpha=0.0001\") # ^ = 윗 삼각형\n",
    "\n",
    "plt.ylim(-50, 50) # y 축의 범위\n",
    "\n",
    "plt.legend(loc='center', bbox_to_anchor=(1.2, 0.5)) # bbox_to_anchor=(1.2, 0.5) <= 레전드의 위치\n",
    "\n",
    "plt.ylabel(\"W values\")"
   ]
  }
 ],
 "metadata": {
  "kernelspec": {
   "display_name": "Python 3",
   "language": "python",
   "name": "python3"
  },
  "language_info": {
   "codemirror_mode": {
    "name": "ipython",
    "version": 3
   },
   "file_extension": ".py",
   "mimetype": "text/x-python",
   "name": "python",
   "nbconvert_exporter": "python",
   "pygments_lexer": "ipython3",
   "version": "3.8.8"
  },
  "toc": {
   "base_numbering": 1,
   "nav_menu": {},
   "number_sections": true,
   "sideBar": true,
   "skip_h1_title": false,
   "title_cell": "Table of Contents",
   "title_sidebar": "Contents",
   "toc_cell": false,
   "toc_position": {},
   "toc_section_display": true,
   "toc_window_display": false
  }
 },
 "nbformat": 4,
 "nbformat_minor": 2
}
